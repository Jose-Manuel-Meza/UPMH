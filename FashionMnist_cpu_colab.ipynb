{
  "nbformat": 4,
  "nbformat_minor": 0,
  "metadata": {
    "colab": {
      "provenance": []
    },
    "kernelspec": {
      "name": "python3",
      "display_name": "Python 3"
    },
    "language_info": {
      "name": "python"
    },
    "gpuClass": "standard"
  },
  "cells": [
    {
      "cell_type": "code",
      "execution_count": 19,
      "metadata": {
        "id": "Vi9izZ9HHSqF"
      },
      "outputs": [],
      "source": [
        "import time\n",
        "import numpy as np  \n",
        "\n",
        "#Componentes de keras con tensorflow\n",
        "\n",
        "import tensorflow as tf\n",
        "from tensorflow import keras\n",
        "from tensorflow.keras import layers\n",
        "from tensorflow.keras.models import Sequential\n",
        "from tensorflow.keras.layers import Conv2D, MaxPooling2D, Flatten, Dense\n",
        "from tensorflow.keras import optimizers, backend\n",
        "import tensorflow.keras.utils as np_utils\n",
        "from tensorflow.keras.callbacks import ModelCheckpoint\n",
        "\n",
        "from tensorflow.keras.datasets import fashion_mnist #Descargar la base de datos"
      ]
    },
    {
      "cell_type": "code",
      "source": [
        "#--------------------Descarga de DataSet---------------------------------------\n",
        "\n",
        "(x_train, y_train), (x_test, y_test) = fashion_mnist.load_data()\n",
        "\n",
        "#---------------------Preprocesamiento de Datos--------------------------------\n",
        "# Aplanamiento\n",
        "# x_train.reshape(cantidad_de_imágenes, 784)\n",
        "x_train = x_train.reshape(60000, 28, 28, 1)\n",
        "x_test = x_test.reshape(10000, 28, 28, 1)\n",
        "\n",
        "# Escalamiento\n",
        "# Escala los valores de los pixeles al rango 0 -> 1\n",
        "x_train = x_train/255\n",
        "x_test = x_test/255\n",
        "\n",
        "# Codificación 1-hot\n",
        "# Aplica codificación 1-hot a las etiquetas y almacena las nuevas etiquetas en variables alternativas y_train1 y y_test1\n",
        "y_train1 = np_utils.to_categorical(y_train)\n",
        "y_test1 = np_utils.to_categorical(y_test)"
      ],
      "metadata": {
        "id": "Tc8raHVeHh4l"
      },
      "execution_count": 20,
      "outputs": []
    },
    {
      "cell_type": "code",
      "source": [
        "#--------------------Creacion del Modelo---------------------------------------\n",
        "\n",
        "# Escribe la instrucción que elimina los modelos creados con keras \n",
        "# Recuerda que es necesario eliminar el modelo cada que se desee volver a entrenar\n",
        "backend.clear_session()"
      ],
      "metadata": {
        "id": "kA5MpACSHuuX"
      },
      "execution_count": 21,
      "outputs": []
    },
    {
      "cell_type": "code",
      "source": [
        "modeloConv = Sequential()\n",
        "modeloConv.add(Conv2D(64, kernel_size=(2,2), activation='relu',\n",
        "                      input_shape = (28,28,1)))\n",
        "modeloConv.add(MaxPooling2D(pool_size=(2,2)))\n",
        "modeloConv.add(Conv2D(128, kernel_size=(2,2), activation='relu'))\n",
        "modeloConv.add(MaxPooling2D(pool_size=(2,2)))\n",
        "modeloConv.add(Flatten())\n",
        "modeloConv.add(Dense(30, activation='relu'))\n",
        "modeloConv.add(Dense(20, activation='relu'))\n",
        "modeloConv.add(Dense(10, activation='softmax'))\n",
        "# Fin de la definición del modelo\n",
        "\n",
        "# La siguiente línea de código es para mostrar la tabla con las características del modelo\n",
        "modeloConv.summary() "
      ],
      "metadata": {
        "colab": {
          "base_uri": "https://localhost:8080/"
        },
        "id": "Nc58Wej_HvuS",
        "outputId": "3b62129c-b53e-4894-d9b1-8400ba096e99"
      },
      "execution_count": 22,
      "outputs": [
        {
          "output_type": "stream",
          "name": "stdout",
          "text": [
            "Model: \"sequential\"\n",
            "_________________________________________________________________\n",
            " Layer (type)                Output Shape              Param #   \n",
            "=================================================================\n",
            " conv2d (Conv2D)             (None, 27, 27, 64)        320       \n",
            "                                                                 \n",
            " max_pooling2d (MaxPooling2D  (None, 13, 13, 64)       0         \n",
            " )                                                               \n",
            "                                                                 \n",
            " conv2d_1 (Conv2D)           (None, 12, 12, 128)       32896     \n",
            "                                                                 \n",
            " max_pooling2d_1 (MaxPooling  (None, 6, 6, 128)        0         \n",
            " 2D)                                                             \n",
            "                                                                 \n",
            " flatten (Flatten)           (None, 4608)              0         \n",
            "                                                                 \n",
            " dense (Dense)               (None, 30)                138270    \n",
            "                                                                 \n",
            " dense_1 (Dense)             (None, 20)                620       \n",
            "                                                                 \n",
            " dense_2 (Dense)             (None, 10)                210       \n",
            "                                                                 \n",
            "=================================================================\n",
            "Total params: 172,316\n",
            "Trainable params: 172,316\n",
            "Non-trainable params: 0\n",
            "_________________________________________________________________\n"
          ]
        }
      ]
    },
    {
      "cell_type": "code",
      "source": [
        "# Define el optimizador Adam\n",
        "adam = optimizers.Adam(learning_rate = 0.001)\n",
        "\n",
        "# Compila el modelo definiendo el optimizador \"adam\", la función de costo (loss) como la \"categorical_crossentropy\"\n",
        "# y la metrica como el \"accuracy\"\n",
        "modeloConv.compile(optimizer=adam, \n",
        "                 loss='categorical_crossentropy', \n",
        "                 metrics=['accuracy'])"
      ],
      "metadata": {
        "id": "7YLTNqEOH6fB"
      },
      "execution_count": 23,
      "outputs": []
    },
    {
      "cell_type": "code",
      "source": [
        "# Entrena el modelo eligiendo un número de epocas y los datos de entrenamiento y validación\n",
        "# Recuerda que guardamos el entrenamiento en una variable para poder graficar el error\n",
        "# RECUERDA ENTRENAR CON LOS \"Y\" CODIFICADOS CON 1-HOT\n",
        "\n",
        "inicio_time = time.perf_counter()\n",
        "\n",
        "m = modeloConv.fit(x_train, y_train1, \n",
        "                 validation_data = (x_test, y_test1),\n",
        "                 epochs = 15, batch_size = 128,\n",
        "                 verbose = True)\n",
        "\n",
        "fin_time = time.perf_counter()\n",
        "\n",
        "print('Tiempo de ejecución = ',fin_time-inicio_time)"
      ],
      "metadata": {
        "colab": {
          "base_uri": "https://localhost:8080/"
        },
        "id": "ts5XMy4vH_fn",
        "outputId": "9e860192-04bf-4047-a754-5569397ea0fb"
      },
      "execution_count": 24,
      "outputs": [
        {
          "output_type": "stream",
          "name": "stdout",
          "text": [
            "Epoch 1/15\n",
            "469/469 [==============================] - 86s 182ms/step - loss: 0.6611 - accuracy: 0.7621 - val_loss: 0.4221 - val_accuracy: 0.8497\n",
            "Epoch 2/15\n",
            "469/469 [==============================] - 86s 183ms/step - loss: 0.3830 - accuracy: 0.8625 - val_loss: 0.3757 - val_accuracy: 0.8665\n",
            "Epoch 3/15\n",
            "469/469 [==============================] - 85s 181ms/step - loss: 0.3335 - accuracy: 0.8802 - val_loss: 0.3421 - val_accuracy: 0.8787\n",
            "Epoch 4/15\n",
            "469/469 [==============================] - 86s 184ms/step - loss: 0.3051 - accuracy: 0.8900 - val_loss: 0.3157 - val_accuracy: 0.8882\n",
            "Epoch 5/15\n",
            "469/469 [==============================] - 86s 183ms/step - loss: 0.2849 - accuracy: 0.8963 - val_loss: 0.3075 - val_accuracy: 0.8918\n",
            "Epoch 6/15\n",
            "469/469 [==============================] - 85s 182ms/step - loss: 0.2695 - accuracy: 0.9021 - val_loss: 0.3045 - val_accuracy: 0.8886\n",
            "Epoch 7/15\n",
            "469/469 [==============================] - 85s 182ms/step - loss: 0.2546 - accuracy: 0.9071 - val_loss: 0.2840 - val_accuracy: 0.9001\n",
            "Epoch 8/15\n",
            "469/469 [==============================] - 85s 181ms/step - loss: 0.2405 - accuracy: 0.9114 - val_loss: 0.3081 - val_accuracy: 0.8896\n",
            "Epoch 9/15\n",
            "469/469 [==============================] - 84s 180ms/step - loss: 0.2285 - accuracy: 0.9162 - val_loss: 0.2835 - val_accuracy: 0.8978\n",
            "Epoch 10/15\n",
            "469/469 [==============================] - 85s 181ms/step - loss: 0.2173 - accuracy: 0.9201 - val_loss: 0.2778 - val_accuracy: 0.9017\n",
            "Epoch 11/15\n",
            "469/469 [==============================] - 84s 179ms/step - loss: 0.2066 - accuracy: 0.9240 - val_loss: 0.2635 - val_accuracy: 0.9057\n",
            "Epoch 12/15\n",
            "469/469 [==============================] - 84s 179ms/step - loss: 0.1937 - accuracy: 0.9293 - val_loss: 0.2691 - val_accuracy: 0.9061\n",
            "Epoch 13/15\n",
            "469/469 [==============================] - 85s 182ms/step - loss: 0.1865 - accuracy: 0.9317 - val_loss: 0.2589 - val_accuracy: 0.9113\n",
            "Epoch 14/15\n",
            "469/469 [==============================] - 84s 178ms/step - loss: 0.1747 - accuracy: 0.9354 - val_loss: 0.2709 - val_accuracy: 0.9022\n",
            "Epoch 15/15\n",
            "469/469 [==============================] - 84s 180ms/step - loss: 0.1636 - accuracy: 0.9394 - val_loss: 0.2651 - val_accuracy: 0.9065\n",
            "Tiempo de ejecución =  1282.6814099210005\n"
          ]
        }
      ]
    }
  ]
}