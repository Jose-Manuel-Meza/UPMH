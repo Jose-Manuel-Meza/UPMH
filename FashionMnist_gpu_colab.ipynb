{
  "nbformat": 4,
  "nbformat_minor": 0,
  "metadata": {
    "colab": {
      "provenance": []
    },
    "kernelspec": {
      "name": "python3",
      "display_name": "Python 3"
    },
    "language_info": {
      "name": "python"
    },
    "accelerator": "GPU",
    "gpuClass": "standard"
  },
  "cells": [
    {
      "cell_type": "code",
      "execution_count": 1,
      "metadata": {
        "id": "SXgda0RaUJrI"
      },
      "outputs": [],
      "source": [
        "import time\n",
        "import numpy as np  \n",
        "import cupy as cp\n",
        "\n",
        "#Componentes de keras con tensorflow\n",
        "\n",
        "import tensorflow as tf\n",
        "from tensorflow import keras\n",
        "from tensorflow.keras import layers\n",
        "from tensorflow.keras.models import Sequential\n",
        "from tensorflow.keras.layers import Conv2D, MaxPooling2D, Flatten, Dense\n",
        "from tensorflow.keras import optimizers, backend\n",
        "import tensorflow.keras.utils as np_utils\n",
        "from tensorflow.keras.callbacks import ModelCheckpoint\n",
        "\n",
        "from tensorflow.keras.datasets import fashion_mnist #Descargar la base de datos"
      ]
    },
    {
      "cell_type": "code",
      "source": [
        "#--------------------Descarga de DataSet---------------------------------------\n",
        "\n",
        "(x_train, y_train), (x_test, y_test) = fashion_mnist.load_data()\n",
        "\n",
        "#---------------------Preprocesamiento de Datos--------------------------------\n",
        "# Aplanamiento\n",
        "# x_train.reshape(cantidad_de_imágenes, 784)\n",
        "x_train = x_train.reshape(60000, 28, 28, 1)\n",
        "x_test = x_test.reshape(10000, 28, 28, 1)\n",
        "\n",
        "# Escalamiento\n",
        "# Escala los valores de los pixeles al rango 0 -> 1\n",
        "x_train = x_train/255\n",
        "x_test = x_test/255\n",
        "\n",
        "#x_train_gpu=cp.asarray(x_train)\n",
        "#x_train_gpu=cp.divide(x_train_gpu, 255.0)\n",
        "#x_train = cp.asnumpy(x_train_gpu)\n",
        "\n",
        "#x_test_gpu=cp.asarray(x_test)\n",
        "#x_test_gpu=cp.divide(x_test_gpu, 255.0)\n",
        "#x_test = cp.asnumpy(x_test_gpu)\n",
        "\n",
        "# Codificación 1-hot\n",
        "# Aplica codificación 1-hot a las etiquetas y almacena las nuevas etiquetas en variables alternativas y_train1 y y_test1\n",
        "y_train1 = np_utils.to_categorical(y_train)\n",
        "y_test1 = np_utils.to_categorical(y_test)"
      ],
      "metadata": {
        "id": "nOD8wNcsUR5I"
      },
      "execution_count": 2,
      "outputs": []
    },
    {
      "cell_type": "code",
      "source": [
        "#--------------------Creacion del Modelo---------------------------------------\n",
        "\n",
        "# Escribe la instrucción que elimina los modelos creados con keras \n",
        "# Recuerda que es necesario eliminar el modelo cada que se desee volver a entrenar\n",
        "backend.clear_session()"
      ],
      "metadata": {
        "id": "PUIkAuXjUUkr"
      },
      "execution_count": 3,
      "outputs": []
    },
    {
      "cell_type": "code",
      "source": [
        "modeloConv = Sequential()\n",
        "modeloConv.add(Conv2D(64, kernel_size=(2,2), activation='relu',\n",
        "                      input_shape = (28,28,1)))\n",
        "modeloConv.add(MaxPooling2D(pool_size=(2,2)))\n",
        "modeloConv.add(Conv2D(128, kernel_size=(2,2), activation='relu'))\n",
        "modeloConv.add(MaxPooling2D(pool_size=(2,2)))\n",
        "modeloConv.add(Flatten())\n",
        "modeloConv.add(Dense(30, activation='relu'))\n",
        "modeloConv.add(Dense(20, activation='relu'))\n",
        "modeloConv.add(Dense(10, activation='softmax'))\n",
        "# Fin de la definición del modelo\n",
        "\n",
        "# La siguiente línea de código es para mostrar la tabla con las características del modelo\n",
        "modeloConv.summary() "
      ],
      "metadata": {
        "colab": {
          "base_uri": "https://localhost:8080/"
        },
        "id": "k9YauG2UUXHp",
        "outputId": "1f984d78-66f7-420c-9fb1-664694f2e401"
      },
      "execution_count": 4,
      "outputs": [
        {
          "output_type": "stream",
          "name": "stdout",
          "text": [
            "Model: \"sequential\"\n",
            "_________________________________________________________________\n",
            " Layer (type)                Output Shape              Param #   \n",
            "=================================================================\n",
            " conv2d (Conv2D)             (None, 27, 27, 64)        320       \n",
            "                                                                 \n",
            " max_pooling2d (MaxPooling2D  (None, 13, 13, 64)       0         \n",
            " )                                                               \n",
            "                                                                 \n",
            " conv2d_1 (Conv2D)           (None, 12, 12, 128)       32896     \n",
            "                                                                 \n",
            " max_pooling2d_1 (MaxPooling  (None, 6, 6, 128)        0         \n",
            " 2D)                                                             \n",
            "                                                                 \n",
            " flatten (Flatten)           (None, 4608)              0         \n",
            "                                                                 \n",
            " dense (Dense)               (None, 30)                138270    \n",
            "                                                                 \n",
            " dense_1 (Dense)             (None, 20)                620       \n",
            "                                                                 \n",
            " dense_2 (Dense)             (None, 10)                210       \n",
            "                                                                 \n",
            "=================================================================\n",
            "Total params: 172,316\n",
            "Trainable params: 172,316\n",
            "Non-trainable params: 0\n",
            "_________________________________________________________________\n"
          ]
        }
      ]
    },
    {
      "cell_type": "code",
      "source": [
        "# Define el optimizador Adam\n",
        "adam = optimizers.Adam(learning_rate = 0.001)\n",
        "\n",
        "# Compila el modelo definiendo el optimizador \"adam\", la función de costo (loss) como la \"categorical_crossentropy\"\n",
        "# y la metrica como el \"accuracy\"\n",
        "modeloConv.compile(optimizer=adam, \n",
        "                 loss='categorical_crossentropy', \n",
        "                 metrics=['accuracy'])"
      ],
      "metadata": {
        "id": "FfAxW-EwUZsG"
      },
      "execution_count": 5,
      "outputs": []
    },
    {
      "cell_type": "code",
      "source": [
        "# Entrena el modelo eligiendo un número de epocas y los datos de entrenamiento y validación\n",
        "# Recuerda que guardamos el entrenamiento en una variable para poder graficar el error\n",
        "# RECUERDA ENTRENAR CON LOS \"Y\" CODIFICADOS CON 1-HOT\n",
        "\n",
        "inicio_time = time.perf_counter()\n",
        "\n",
        "m = modeloConv.fit(x_train, y_train1, \n",
        "                 validation_data = (x_test, y_test1),\n",
        "                 epochs = 20, batch_size = 70,\n",
        "                 verbose = True)\n",
        "\n",
        "fin_time = time.perf_counter()\n",
        "\n",
        "print('Tiempo de ejecución = ',fin_time-inicio_time)"
      ],
      "metadata": {
        "colab": {
          "base_uri": "https://localhost:8080/"
        },
        "id": "EI44r8HuUfUk",
        "outputId": "48000007-d9ce-475e-cfa9-6acdfef5d0db"
      },
      "execution_count": 6,
      "outputs": [
        {
          "output_type": "stream",
          "name": "stdout",
          "text": [
            "Epoch 1/20\n",
            "858/858 [==============================] - 7s 6ms/step - loss: 0.5326 - accuracy: 0.8093 - val_loss: 0.3924 - val_accuracy: 0.8597\n",
            "Epoch 2/20\n",
            "858/858 [==============================] - 5s 5ms/step - loss: 0.3421 - accuracy: 0.8761 - val_loss: 0.3481 - val_accuracy: 0.8741\n",
            "Epoch 3/20\n",
            "858/858 [==============================] - 5s 5ms/step - loss: 0.2997 - accuracy: 0.8903 - val_loss: 0.3022 - val_accuracy: 0.8904\n",
            "Epoch 4/20\n",
            "858/858 [==============================] - 5s 6ms/step - loss: 0.2704 - accuracy: 0.9018 - val_loss: 0.2986 - val_accuracy: 0.8917\n",
            "Epoch 5/20\n",
            "858/858 [==============================] - 5s 6ms/step - loss: 0.2498 - accuracy: 0.9080 - val_loss: 0.2808 - val_accuracy: 0.8994\n",
            "Epoch 6/20\n",
            "858/858 [==============================] - 5s 6ms/step - loss: 0.2290 - accuracy: 0.9164 - val_loss: 0.2800 - val_accuracy: 0.9020\n",
            "Epoch 7/20\n",
            "858/858 [==============================] - 5s 6ms/step - loss: 0.2141 - accuracy: 0.9217 - val_loss: 0.2714 - val_accuracy: 0.9022\n",
            "Epoch 8/20\n",
            "858/858 [==============================] - 5s 5ms/step - loss: 0.1964 - accuracy: 0.9273 - val_loss: 0.2639 - val_accuracy: 0.9063\n",
            "Epoch 9/20\n",
            "858/858 [==============================] - 5s 6ms/step - loss: 0.1821 - accuracy: 0.9332 - val_loss: 0.2543 - val_accuracy: 0.9093\n",
            "Epoch 10/20\n",
            "858/858 [==============================] - 5s 5ms/step - loss: 0.1662 - accuracy: 0.9393 - val_loss: 0.2493 - val_accuracy: 0.9123\n",
            "Epoch 11/20\n",
            "858/858 [==============================] - 5s 5ms/step - loss: 0.1568 - accuracy: 0.9423 - val_loss: 0.2633 - val_accuracy: 0.9110\n",
            "Epoch 12/20\n",
            "858/858 [==============================] - 5s 5ms/step - loss: 0.1441 - accuracy: 0.9464 - val_loss: 0.2551 - val_accuracy: 0.9158\n",
            "Epoch 13/20\n",
            "858/858 [==============================] - 5s 5ms/step - loss: 0.1324 - accuracy: 0.9516 - val_loss: 0.2514 - val_accuracy: 0.9160\n",
            "Epoch 14/20\n",
            "858/858 [==============================] - 5s 5ms/step - loss: 0.1212 - accuracy: 0.9561 - val_loss: 0.2546 - val_accuracy: 0.9149\n",
            "Epoch 15/20\n",
            "858/858 [==============================] - 5s 6ms/step - loss: 0.1122 - accuracy: 0.9579 - val_loss: 0.2747 - val_accuracy: 0.9168\n",
            "Epoch 16/20\n",
            "858/858 [==============================] - 5s 6ms/step - loss: 0.1039 - accuracy: 0.9623 - val_loss: 0.2841 - val_accuracy: 0.9131\n",
            "Epoch 17/20\n",
            "858/858 [==============================] - 5s 6ms/step - loss: 0.0942 - accuracy: 0.9653 - val_loss: 0.3066 - val_accuracy: 0.9108\n",
            "Epoch 18/20\n",
            "858/858 [==============================] - 5s 5ms/step - loss: 0.0871 - accuracy: 0.9676 - val_loss: 0.3082 - val_accuracy: 0.9134\n",
            "Epoch 19/20\n",
            "858/858 [==============================] - 5s 5ms/step - loss: 0.0790 - accuracy: 0.9707 - val_loss: 0.3634 - val_accuracy: 0.9073\n",
            "Epoch 20/20\n",
            "858/858 [==============================] - 5s 6ms/step - loss: 0.0733 - accuracy: 0.9733 - val_loss: 0.3389 - val_accuracy: 0.9124\n",
            "Tiempo de ejecución =  142.7627740559999\n"
          ]
        }
      ]
    },
    {
      "cell_type": "code",
      "source": [
        "#----------------------División del dataset-----------------------------------\n",
        "\n",
        "x_train_0 = x_train[:20000]\n",
        "x_train_1 = x_train[20001:40000]\n",
        "x_train_2 = x_train[40000:]\n",
        "\n",
        "y_train1_0 = y_train1[:20000]\n",
        "y_train1_1 = y_train1[20001:40000]\n",
        "y_train1_2 = y_train1[40000:]\n",
        "\n",
        "x_test_0 = x_test[:3333]\n",
        "x_test_1 = x_test[3334:6666]\n",
        "x_test_2 = x_test[6667:]\n",
        "\n",
        "y_test1_0 = y_test1[:3333]\n",
        "y_test1_1 = y_test1[3334:6666]\n",
        "y_test1_2 = y_test1[6667:]"
      ],
      "metadata": {
        "id": "PmhskJIT9vGz"
      },
      "execution_count": 7,
      "outputs": []
    },
    {
      "cell_type": "code",
      "source": [
        "#-------------------Creación copia 0 del modelo------------------------------\n",
        "\n",
        "backend.clear_session()\n",
        "\n",
        "modeloConv0  = keras.models.clone_model(modeloConv)\n",
        "\n",
        "#modeloConv0.summary()\n",
        "\n",
        "modeloConv0.compile(optimizer=adam, \n",
        "                 loss='categorical_crossentropy', \n",
        "                 metrics=['accuracy'])"
      ],
      "metadata": {
        "id": "zgWcoxgJ90MH"
      },
      "execution_count": 8,
      "outputs": []
    },
    {
      "cell_type": "code",
      "source": [
        "inicio_time = time.perf_counter()\n",
        "\n",
        "m0 = modeloConv0.fit(x_train_0, y_train1_0, \n",
        "                 validation_data = (x_test_0, y_test1_0),\n",
        "                 epochs = 20, batch_size = 70,\n",
        "                 verbose = True)\n",
        "\n",
        "fin_time = time.perf_counter()\n",
        "\n",
        "print('Tiempo de ejecución = ',fin_time-inicio_time)"
      ],
      "metadata": {
        "colab": {
          "base_uri": "https://localhost:8080/"
        },
        "id": "sT5j439F-_5v",
        "outputId": "6c221453-1822-4db9-93f4-b33c35c26477"
      },
      "execution_count": 9,
      "outputs": [
        {
          "output_type": "stream",
          "name": "stdout",
          "text": [
            "Epoch 1/20\n",
            "286/286 [==============================] - 2s 6ms/step - loss: 0.6261 - accuracy: 0.7647 - val_loss: 0.4395 - val_accuracy: 0.8464\n",
            "Epoch 2/20\n",
            "286/286 [==============================] - 2s 5ms/step - loss: 0.3769 - accuracy: 0.8626 - val_loss: 0.3831 - val_accuracy: 0.8641\n",
            "Epoch 3/20\n",
            "286/286 [==============================] - 2s 5ms/step - loss: 0.3283 - accuracy: 0.8778 - val_loss: 0.3769 - val_accuracy: 0.8659\n",
            "Epoch 4/20\n",
            "286/286 [==============================] - 2s 5ms/step - loss: 0.3002 - accuracy: 0.8892 - val_loss: 0.3654 - val_accuracy: 0.8710\n",
            "Epoch 5/20\n",
            "286/286 [==============================] - 2s 5ms/step - loss: 0.2765 - accuracy: 0.8978 - val_loss: 0.3721 - val_accuracy: 0.8707\n",
            "Epoch 6/20\n",
            "286/286 [==============================] - 2s 5ms/step - loss: 0.2584 - accuracy: 0.9031 - val_loss: 0.3484 - val_accuracy: 0.8758\n",
            "Epoch 7/20\n",
            "286/286 [==============================] - 2s 5ms/step - loss: 0.2453 - accuracy: 0.9110 - val_loss: 0.3346 - val_accuracy: 0.8860\n",
            "Epoch 8/20\n",
            "286/286 [==============================] - 2s 5ms/step - loss: 0.2254 - accuracy: 0.9172 - val_loss: 0.3343 - val_accuracy: 0.8821\n",
            "Epoch 9/20\n",
            "286/286 [==============================] - 2s 5ms/step - loss: 0.2139 - accuracy: 0.9197 - val_loss: 0.3525 - val_accuracy: 0.8788\n",
            "Epoch 10/20\n",
            "286/286 [==============================] - 2s 5ms/step - loss: 0.2002 - accuracy: 0.9261 - val_loss: 0.3338 - val_accuracy: 0.8890\n",
            "Epoch 11/20\n",
            "286/286 [==============================] - 1s 5ms/step - loss: 0.1897 - accuracy: 0.9276 - val_loss: 0.3428 - val_accuracy: 0.8863\n",
            "Epoch 12/20\n",
            "286/286 [==============================] - 2s 5ms/step - loss: 0.1785 - accuracy: 0.9337 - val_loss: 0.3470 - val_accuracy: 0.8890\n",
            "Epoch 13/20\n",
            "286/286 [==============================] - 2s 5ms/step - loss: 0.1653 - accuracy: 0.9364 - val_loss: 0.3800 - val_accuracy: 0.8776\n",
            "Epoch 14/20\n",
            "286/286 [==============================] - 2s 5ms/step - loss: 0.1562 - accuracy: 0.9392 - val_loss: 0.3650 - val_accuracy: 0.8851\n",
            "Epoch 15/20\n",
            "286/286 [==============================] - 2s 5ms/step - loss: 0.1436 - accuracy: 0.9467 - val_loss: 0.3638 - val_accuracy: 0.8908\n",
            "Epoch 16/20\n",
            "286/286 [==============================] - 2s 5ms/step - loss: 0.1401 - accuracy: 0.9476 - val_loss: 0.3738 - val_accuracy: 0.8902\n",
            "Epoch 17/20\n",
            "286/286 [==============================] - 2s 5ms/step - loss: 0.1306 - accuracy: 0.9512 - val_loss: 0.4001 - val_accuracy: 0.8788\n",
            "Epoch 18/20\n",
            "286/286 [==============================] - 2s 5ms/step - loss: 0.1186 - accuracy: 0.9563 - val_loss: 0.3968 - val_accuracy: 0.8854\n",
            "Epoch 19/20\n",
            "286/286 [==============================] - 2s 5ms/step - loss: 0.1082 - accuracy: 0.9599 - val_loss: 0.3794 - val_accuracy: 0.8899\n",
            "Epoch 20/20\n",
            "286/286 [==============================] - 2s 5ms/step - loss: 0.1051 - accuracy: 0.9614 - val_loss: 0.3907 - val_accuracy: 0.8911\n",
            "Tiempo de ejecución =  41.526762556999984\n"
          ]
        }
      ]
    },
    {
      "cell_type": "code",
      "source": [
        "#-------------------Creación copia 1 del modelo------------------------------\n",
        "\n",
        "backend.clear_session()\n",
        "\n",
        "modeloConv1  = keras.models.clone_model(modeloConv)\n",
        "\n",
        "#modeloConv1.summary()\n",
        "\n",
        "modeloConv1.compile(optimizer=adam, \n",
        "                 loss='categorical_crossentropy', \n",
        "                 metrics=['accuracy'])"
      ],
      "metadata": {
        "id": "nsaSsyOk920t"
      },
      "execution_count": 10,
      "outputs": []
    },
    {
      "cell_type": "code",
      "source": [
        "inicio_time = time.perf_counter()\n",
        "\n",
        "m0 = modeloConv1.fit(x_train_1, y_train1_1, \n",
        "                 validation_data = (x_test_1, y_test1_1),\n",
        "                 epochs = 20, batch_size = 70,\n",
        "                 verbose = True)\n",
        "\n",
        "fin_time = time.perf_counter()\n",
        "\n",
        "print('Tiempo de ejecución = ',fin_time-inicio_time)"
      ],
      "metadata": {
        "colab": {
          "base_uri": "https://localhost:8080/"
        },
        "id": "Deh_ndt-AHGu",
        "outputId": "ab77d95e-bf69-4175-be20-78f1ab8af9fc"
      },
      "execution_count": 11,
      "outputs": [
        {
          "output_type": "stream",
          "name": "stdout",
          "text": [
            "Epoch 1/20\n",
            "286/286 [==============================] - 3s 7ms/step - loss: 0.6064 - accuracy: 0.7804 - val_loss: 0.4742 - val_accuracy: 0.8322\n",
            "Epoch 2/20\n",
            "286/286 [==============================] - 2s 5ms/step - loss: 0.3810 - accuracy: 0.8638 - val_loss: 0.4053 - val_accuracy: 0.8592\n",
            "Epoch 3/20\n",
            "286/286 [==============================] - 2s 5ms/step - loss: 0.3393 - accuracy: 0.8777 - val_loss: 0.3940 - val_accuracy: 0.8649\n",
            "Epoch 4/20\n",
            "286/286 [==============================] - 2s 5ms/step - loss: 0.3106 - accuracy: 0.8874 - val_loss: 0.3699 - val_accuracy: 0.8694\n",
            "Epoch 5/20\n",
            "286/286 [==============================] - 2s 5ms/step - loss: 0.2868 - accuracy: 0.8970 - val_loss: 0.3588 - val_accuracy: 0.8718\n",
            "Epoch 6/20\n",
            "286/286 [==============================] - 1s 5ms/step - loss: 0.2706 - accuracy: 0.9007 - val_loss: 0.3573 - val_accuracy: 0.8773\n",
            "Epoch 7/20\n",
            "286/286 [==============================] - 2s 5ms/step - loss: 0.2640 - accuracy: 0.9042 - val_loss: 0.3495 - val_accuracy: 0.8785\n",
            "Epoch 8/20\n",
            "286/286 [==============================] - 2s 5ms/step - loss: 0.2434 - accuracy: 0.9120 - val_loss: 0.3452 - val_accuracy: 0.8827\n",
            "Epoch 9/20\n",
            "286/286 [==============================] - 2s 5ms/step - loss: 0.2328 - accuracy: 0.9150 - val_loss: 0.3434 - val_accuracy: 0.8788\n",
            "Epoch 10/20\n",
            "286/286 [==============================] - 2s 5ms/step - loss: 0.2219 - accuracy: 0.9185 - val_loss: 0.3465 - val_accuracy: 0.8803\n",
            "Epoch 11/20\n",
            "286/286 [==============================] - 2s 5ms/step - loss: 0.2129 - accuracy: 0.9231 - val_loss: 0.3493 - val_accuracy: 0.8830\n",
            "Epoch 12/20\n",
            "286/286 [==============================] - 2s 6ms/step - loss: 0.1991 - accuracy: 0.9279 - val_loss: 0.3528 - val_accuracy: 0.8854\n",
            "Epoch 13/20\n",
            "286/286 [==============================] - 2s 6ms/step - loss: 0.1904 - accuracy: 0.9313 - val_loss: 0.3641 - val_accuracy: 0.8836\n",
            "Epoch 14/20\n",
            "286/286 [==============================] - 2s 5ms/step - loss: 0.1820 - accuracy: 0.9346 - val_loss: 0.3578 - val_accuracy: 0.8791\n",
            "Epoch 15/20\n",
            "286/286 [==============================] - 2s 5ms/step - loss: 0.1730 - accuracy: 0.9369 - val_loss: 0.3548 - val_accuracy: 0.8896\n",
            "Epoch 16/20\n",
            "286/286 [==============================] - 2s 5ms/step - loss: 0.1695 - accuracy: 0.9390 - val_loss: 0.3547 - val_accuracy: 0.8878\n",
            "Epoch 17/20\n",
            "286/286 [==============================] - 2s 5ms/step - loss: 0.1539 - accuracy: 0.9450 - val_loss: 0.3557 - val_accuracy: 0.8896\n",
            "Epoch 18/20\n",
            "286/286 [==============================] - 2s 5ms/step - loss: 0.1484 - accuracy: 0.9453 - val_loss: 0.3718 - val_accuracy: 0.8899\n",
            "Epoch 19/20\n",
            "286/286 [==============================] - 2s 5ms/step - loss: 0.1403 - accuracy: 0.9485 - val_loss: 0.3769 - val_accuracy: 0.8875\n",
            "Epoch 20/20\n",
            "286/286 [==============================] - 2s 5ms/step - loss: 0.1337 - accuracy: 0.9509 - val_loss: 0.3796 - val_accuracy: 0.8857\n",
            "Tiempo de ejecución =  31.936607772000116\n"
          ]
        }
      ]
    },
    {
      "cell_type": "code",
      "source": [
        "#-------------------Creación copia 2 del modelo------------------------------\n",
        "\n",
        "backend.clear_session()\n",
        "\n",
        "modeloConv2  = keras.models.clone_model(modeloConv)\n",
        "\n",
        "#modeloConv2.summary()\n",
        "\n",
        "modeloConv2.compile(optimizer=adam, \n",
        "                 loss='categorical_crossentropy', \n",
        "                 metrics=['accuracy'])"
      ],
      "metadata": {
        "id": "UbsbWM8D96x-"
      },
      "execution_count": 12,
      "outputs": []
    },
    {
      "cell_type": "code",
      "source": [
        "inicio_time = time.perf_counter()\n",
        "\n",
        "m0 = modeloConv2.fit(x_train_2, y_train1_2, \n",
        "                 validation_data = (x_test_2, y_test1_2),\n",
        "                 epochs = 20, batch_size = 70,\n",
        "                 verbose = True)\n",
        "\n",
        "fin_time = time.perf_counter()\n",
        "\n",
        "print('Tiempo de ejecución = ',fin_time-inicio_time)"
      ],
      "metadata": {
        "colab": {
          "base_uri": "https://localhost:8080/"
        },
        "id": "zfEv7sJiBJND",
        "outputId": "3fa03887-5136-4e6b-dbaf-420755a3bdd1"
      },
      "execution_count": 13,
      "outputs": [
        {
          "output_type": "stream",
          "name": "stdout",
          "text": [
            "Epoch 1/20\n",
            "286/286 [==============================] - 2s 6ms/step - loss: 0.6421 - accuracy: 0.7694 - val_loss: 0.4573 - val_accuracy: 0.8335\n",
            "Epoch 2/20\n",
            "286/286 [==============================] - 2s 5ms/step - loss: 0.3900 - accuracy: 0.8547 - val_loss: 0.3699 - val_accuracy: 0.8623\n",
            "Epoch 3/20\n",
            "286/286 [==============================] - 2s 5ms/step - loss: 0.3394 - accuracy: 0.8767 - val_loss: 0.3573 - val_accuracy: 0.8584\n",
            "Epoch 4/20\n",
            "286/286 [==============================] - 2s 5ms/step - loss: 0.3097 - accuracy: 0.8882 - val_loss: 0.3199 - val_accuracy: 0.8758\n",
            "Epoch 5/20\n",
            "286/286 [==============================] - 2s 5ms/step - loss: 0.2891 - accuracy: 0.8953 - val_loss: 0.3160 - val_accuracy: 0.8773\n",
            "Epoch 6/20\n",
            "286/286 [==============================] - 2s 5ms/step - loss: 0.2679 - accuracy: 0.9015 - val_loss: 0.3144 - val_accuracy: 0.8740\n",
            "Epoch 7/20\n",
            "286/286 [==============================] - 2s 5ms/step - loss: 0.2477 - accuracy: 0.9097 - val_loss: 0.3054 - val_accuracy: 0.8851\n",
            "Epoch 8/20\n",
            "286/286 [==============================] - 2s 5ms/step - loss: 0.2334 - accuracy: 0.9140 - val_loss: 0.2806 - val_accuracy: 0.8953\n",
            "Epoch 9/20\n",
            "286/286 [==============================] - 2s 5ms/step - loss: 0.2196 - accuracy: 0.9194 - val_loss: 0.2819 - val_accuracy: 0.8956\n",
            "Epoch 10/20\n",
            "286/286 [==============================] - 2s 5ms/step - loss: 0.2079 - accuracy: 0.9237 - val_loss: 0.2851 - val_accuracy: 0.8983\n",
            "Epoch 11/20\n",
            "286/286 [==============================] - 2s 5ms/step - loss: 0.1949 - accuracy: 0.9300 - val_loss: 0.2799 - val_accuracy: 0.9001\n",
            "Epoch 12/20\n",
            "286/286 [==============================] - 2s 5ms/step - loss: 0.1842 - accuracy: 0.9330 - val_loss: 0.2786 - val_accuracy: 0.9007\n",
            "Epoch 13/20\n",
            "286/286 [==============================] - 2s 5ms/step - loss: 0.1731 - accuracy: 0.9375 - val_loss: 0.2778 - val_accuracy: 0.9025\n",
            "Epoch 14/20\n",
            "286/286 [==============================] - 1s 5ms/step - loss: 0.1587 - accuracy: 0.9435 - val_loss: 0.2964 - val_accuracy: 0.9010\n",
            "Epoch 15/20\n",
            "286/286 [==============================] - 2s 5ms/step - loss: 0.1539 - accuracy: 0.9441 - val_loss: 0.2919 - val_accuracy: 0.9001\n",
            "Epoch 16/20\n",
            "286/286 [==============================] - 2s 5ms/step - loss: 0.1413 - accuracy: 0.9515 - val_loss: 0.3086 - val_accuracy: 0.9013\n",
            "Epoch 17/20\n",
            "286/286 [==============================] - 1s 5ms/step - loss: 0.1335 - accuracy: 0.9536 - val_loss: 0.3117 - val_accuracy: 0.8995\n",
            "Epoch 18/20\n",
            "286/286 [==============================] - 2s 5ms/step - loss: 0.1211 - accuracy: 0.9578 - val_loss: 0.3222 - val_accuracy: 0.9031\n",
            "Epoch 19/20\n",
            "286/286 [==============================] - 2s 5ms/step - loss: 0.1189 - accuracy: 0.9571 - val_loss: 0.3258 - val_accuracy: 0.9010\n",
            "Epoch 20/20\n",
            "286/286 [==============================] - 2s 5ms/step - loss: 0.1044 - accuracy: 0.9628 - val_loss: 0.3396 - val_accuracy: 0.8974\n",
            "Tiempo de ejecución =  41.475223870000264\n"
          ]
        }
      ]
    }
  ]
}